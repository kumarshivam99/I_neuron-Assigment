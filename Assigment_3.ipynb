{
  "nbformat": 4,
  "nbformat_minor": 0,
  "metadata": {
    "colab": {
      "name": "Assigment_3.ipynb",
      "provenance": []
    },
    "kernelspec": {
      "name": "python3",
      "display_name": "Python 3"
    }
  },
  "cells": [
    {
      "cell_type": "markdown",
      "metadata": {
        "id": "u8owp7C7Ot_D",
        "colab_type": "text"
      },
      "source": [
        "##1.1 Write a Python Program to implement your own myreduce() function which works exactly like Python's built-in function reduce()##"
      ]
    },
    {
      "cell_type": "code",
      "metadata": {
        "id": "UFZ3wy_e3CIU",
        "colab_type": "code",
        "colab": {}
      },
      "source": [
        "def my_reduce(fun,list):\n",
        "  a=list[0]\n",
        "  for i in list[1:]:\n",
        "    a=fun(a,i)\n",
        "  return a  "
      ],
      "execution_count": 0,
      "outputs": []
    },
    {
      "cell_type": "code",
      "metadata": {
        "id": "RZuD1qu-6_7r",
        "colab_type": "code",
        "colab": {
          "base_uri": "https://localhost:8080/",
          "height": 34
        },
        "outputId": "8d1eb1e2-c24f-43df-a835-546440244028"
      },
      "source": [
        "l=[1,2,3,4,5,6,7,8,9]\n",
        "b=my_reduce(lambda a,b:a+b,l)\n",
        "print(b)"
      ],
      "execution_count": 2,
      "outputs": [
        {
          "output_type": "stream",
          "text": [
            "45\n"
          ],
          "name": "stdout"
        }
      ]
    },
    {
      "cell_type": "markdown",
      "metadata": {
        "id": "xmA2umwRO8I5",
        "colab_type": "text"
      },
      "source": [
        "##1.2 Write a Python program to implement your own myfilter() function which works exactly like Python's built-in function filter()"
      ]
    },
    {
      "cell_type": "code",
      "metadata": {
        "id": "Za_nuWvk7e8l",
        "colab_type": "code",
        "colab": {}
      },
      "source": [
        "def my_filter(fun,list):\n",
        "  a=[]\n",
        "  for i in list:\n",
        "    if fun(i):\n",
        "      a.append(i)\n",
        "  return a      "
      ],
      "execution_count": 0,
      "outputs": []
    },
    {
      "cell_type": "code",
      "metadata": {
        "id": "JN-ADOsH71rf",
        "colab_type": "code",
        "colab": {
          "base_uri": "https://localhost:8080/",
          "height": 34
        },
        "outputId": "525fc096-00f8-4578-b078-1ae299a0e45d"
      },
      "source": [
        "l=[1,2,3,4,5,6,7,8,9]\n",
        "b=list(my_filter(lambda x:x%2==0,l))\n",
        "print(b)"
      ],
      "execution_count": 4,
      "outputs": [
        {
          "output_type": "stream",
          "text": [
            "[2, 4, 6, 8]\n"
          ],
          "name": "stdout"
        }
      ]
    },
    {
      "cell_type": "markdown",
      "metadata": {
        "id": "aTevWsIqPFXb",
        "colab_type": "text"
      },
      "source": [
        "##2. Implement List comprehensions to produce the following lists. Write List comprehensions to produce the following Lists\n",
        "\n",
        "##['x', 'xx', 'xxx', 'xxxx', 'y', 'yy', 'yyy', 'yyyy', 'z', 'zz', 'zzz', 'zzzz']"
      ]
    },
    {
      "cell_type": "code",
      "metadata": {
        "id": "XtQQcT2Q_wCS",
        "colab_type": "code",
        "colab": {
          "base_uri": "https://localhost:8080/",
          "height": 34
        },
        "outputId": "dcfecbf9-d36d-434c-9d60-1d8f4a0157f7"
      },
      "source": [
        "l=['x','y','z']\n",
        "a=[x*i for x in l for i in range(1,5) ]\n",
        "print(a)"
      ],
      "execution_count": 5,
      "outputs": [
        {
          "output_type": "stream",
          "text": [
            "['x', 'xx', 'xxx', 'xxxx', 'y', 'yy', 'yyy', 'yyyy', 'z', 'zz', 'zzz', 'zzzz']\n"
          ],
          "name": "stdout"
        }
      ]
    },
    {
      "cell_type": "markdown",
      "metadata": {
        "id": "EBI44gUTPRru",
        "colab_type": "text"
      },
      "source": [
        "##['x', 'y', 'z', 'xx', 'yy', 'zz', 'xxx', 'yyy', 'zzz', 'xxxx', 'yyyy', 'zzzz']"
      ]
    },
    {
      "cell_type": "code",
      "metadata": {
        "id": "4HCpUQYWp2hQ",
        "colab_type": "code",
        "colab": {
          "base_uri": "https://localhost:8080/",
          "height": 34
        },
        "outputId": "794bad01-c68f-4bdf-9e04-d294f83191e2"
      },
      "source": [
        "l=['x','y','z']\n",
        "a=[x*i for i in range(1,5) for x in l]\n",
        "print(a)"
      ],
      "execution_count": 6,
      "outputs": [
        {
          "output_type": "stream",
          "text": [
            "['x', 'y', 'z', 'xx', 'yy', 'zz', 'xxx', 'yyy', 'zzz', 'xxxx', 'yyyy', 'zzzz']\n"
          ],
          "name": "stdout"
        }
      ]
    },
    {
      "cell_type": "markdown",
      "metadata": {
        "id": "SWBRJBGAPXI2",
        "colab_type": "text"
      },
      "source": [
        "##[[2], [3], [4], [3], [4], [5], [4], [5], [6]]"
      ]
    },
    {
      "cell_type": "code",
      "metadata": {
        "id": "l_1DSH9_-yWg",
        "colab_type": "code",
        "colab": {
          "base_uri": "https://localhost:8080/",
          "height": 34
        },
        "outputId": "dd14ddab-d622-487d-99d9-60cff9d35efb"
      },
      "source": [
        "a=[[i] for x in range(2,5) for i in range(x,x+3) ]\n",
        "print(a)"
      ],
      "execution_count": 7,
      "outputs": [
        {
          "output_type": "stream",
          "text": [
            "[[2], [3], [4], [3], [4], [5], [4], [5], [6]]\n"
          ],
          "name": "stdout"
        }
      ]
    },
    {
      "cell_type": "markdown",
      "metadata": {
        "id": "Qe_6JvTXPbaq",
        "colab_type": "text"
      },
      "source": [
        "##[[2, 3, 4, 5], [3, 4, 5, 6],[4, 5, 6, 7], [5, 6, 7, 8]]"
      ]
    },
    {
      "cell_type": "code",
      "metadata": {
        "id": "x11_CKadDc6A",
        "colab_type": "code",
        "colab": {
          "base_uri": "https://localhost:8080/",
          "height": 34
        },
        "outputId": "f7bc0f90-5f08-4e35-afee-0944253a81c8"
      },
      "source": [
        "a=[[x,x+1,x+2,x+3] for x in range(2,6)]\n",
        "print(a)"
      ],
      "execution_count": 8,
      "outputs": [
        {
          "output_type": "stream",
          "text": [
            "[[2, 3, 4, 5], [3, 4, 5, 6], [4, 5, 6, 7], [5, 6, 7, 8]]\n"
          ],
          "name": "stdout"
        }
      ]
    },
    {
      "cell_type": "markdown",
      "metadata": {
        "id": "XEyuNnGtPmOw",
        "colab_type": "text"
      },
      "source": [
        "##[(1, 1), (2, 1), (3, 1), (1, 2), (2, 2), (3, 2), (1, 3), (2, 3), (3, 3)]"
      ]
    },
    {
      "cell_type": "code",
      "metadata": {
        "id": "R7BTsWytFFwe",
        "colab_type": "code",
        "colab": {
          "base_uri": "https://localhost:8080/",
          "height": 34
        },
        "outputId": "e7169eed-4bd8-4134-8e2d-a2ea24949e56"
      },
      "source": [
        "a=[(y,x) for x in range(1,4) for y in range(1,4)]\n",
        "print(a)"
      ],
      "execution_count": 9,
      "outputs": [
        {
          "output_type": "stream",
          "text": [
            "[(1, 1), (2, 1), (3, 1), (1, 2), (2, 2), (3, 2), (1, 3), (2, 3), (3, 3)]\n"
          ],
          "name": "stdout"
        }
      ]
    },
    {
      "cell_type": "code",
      "metadata": {
        "id": "lbYAnwF-QEej",
        "colab_type": "code",
        "colab": {}
      },
      "source": [
        ""
      ],
      "execution_count": 0,
      "outputs": []
    }
  ]
}