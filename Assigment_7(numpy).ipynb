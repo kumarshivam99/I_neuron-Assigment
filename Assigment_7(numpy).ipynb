{
  "nbformat": 4,
  "nbformat_minor": 0,
  "metadata": {
    "colab": {
      "name": "Assigment_7(numpy).ipynb",
      "provenance": [],
      "collapsed_sections": [],
      "authorship_tag": "ABX9TyM3AuQUxkPEtpTlDhVsV80L",
      "include_colab_link": true
    },
    "kernelspec": {
      "name": "python3",
      "display_name": "Python 3"
    }
  },
  "cells": [
    {
      "cell_type": "markdown",
      "metadata": {
        "id": "view-in-github",
        "colab_type": "text"
      },
      "source": [
        "<a href=\"https://colab.research.google.com/github/kumarshivam99/I_neuron-Assigment/blob/master/Assigment_7(numpy).ipynb\" target=\"_parent\"><img src=\"https://colab.research.google.com/assets/colab-badge.svg\" alt=\"Open In Colab\"/></a>"
      ]
    },
    {
      "cell_type": "markdown",
      "metadata": {
        "id": "0SJneolJEK8p",
        "colab_type": "text"
      },
      "source": [
        "#**Write a function so that the columns of the output matrix are powers of the input vector.**#\n",
        "#The order of the powers is determined by the increasing boolean argument. Specifically, when increasing is False, the i-th output column is the input vector raised element-wise to the power of N - i - 1.#\n",
        "\n",
        "HINT: Such a matrix with a geometric progression in each row is named for Alexandre-\n",
        "Theophile Vandermonde."
      ]
    },
    {
      "cell_type": "code",
      "metadata": {
        "id": "u6z4iw4N_94-",
        "colab_type": "code",
        "colab": {}
      },
      "source": [
        "import numpy as np"
      ],
      "execution_count": 1,
      "outputs": []
    },
    {
      "cell_type": "code",
      "metadata": {
        "id": "cKBCb66CAX_9",
        "colab_type": "code",
        "colab": {}
      },
      "source": [
        "def atv(x):\n",
        "  x = np.array(x)\n",
        "  N=len(x)\n",
        "  y=np.column_stack([x**(N-1-i) for i in range(N)])\n",
        "  return y"
      ],
      "execution_count": null,
      "outputs": []
    },
    {
      "cell_type": "code",
      "metadata": {
        "id": "WDhFqN3qDw9t",
        "colab_type": "code",
        "colab": {
          "base_uri": "https://localhost:8080/",
          "height": 84
        },
        "outputId": "8f5c0ede-3aa7-4915-c217-bbeb17a45fb8"
      },
      "source": [
        "a=[1,2,3,4]\n",
        "atv(a)"
      ],
      "execution_count": null,
      "outputs": [
        {
          "output_type": "execute_result",
          "data": {
            "text/plain": [
              "array([[ 1,  1,  1,  1],\n",
              "       [ 8,  4,  2,  1],\n",
              "       [27,  9,  3,  1],\n",
              "       [64, 16,  4,  1]])"
            ]
          },
          "metadata": {
            "tags": []
          },
          "execution_count": 27
        }
      ]
    },
    {
      "cell_type": "markdown",
      "metadata": {
        "id": "qB8VlFgAE835",
        "colab_type": "text"
      },
      "source": [
        "#**Write a function to find moving average in an array over a window: Test it over [3, 5, 7, 2, 8, 10, 11, 65, 72, 81, 99, 100, 150] and window of 3.**#"
      ]
    },
    {
      "cell_type": "code",
      "metadata": {
        "id": "NgsAyOJbD9Tu",
        "colab_type": "code",
        "colab": {}
      },
      "source": [
        "def moving_average(x,k):\n",
        "  a=[]\n",
        "  n=len(x)\n",
        "  for i in range(n-k+1):\n",
        "    m=0\n",
        "    for j in range(i,i+k):\n",
        "      m+=x[j]\n",
        "    m=m/k\n",
        "    a.append(m)\n",
        "  return a  \n"
      ],
      "execution_count": 2,
      "outputs": []
    },
    {
      "cell_type": "code",
      "metadata": {
        "id": "1og7GkBqd4jU",
        "colab_type": "code",
        "colab": {
          "base_uri": "https://localhost:8080/",
          "height": 202
        },
        "outputId": "a3a95dc8-f547-49d3-d7c3-49051983f52d"
      },
      "source": [
        "x=[3,45,7,2,8,10,11,65,72,81,99,100,150]\n",
        "k=3\n",
        "moving_average(x,k)"
      ],
      "execution_count": 3,
      "outputs": [
        {
          "output_type": "execute_result",
          "data": {
            "text/plain": [
              "[18.333333333333332,\n",
              " 18.0,\n",
              " 5.666666666666667,\n",
              " 6.666666666666667,\n",
              " 9.666666666666666,\n",
              " 28.666666666666668,\n",
              " 49.333333333333336,\n",
              " 72.66666666666667,\n",
              " 84.0,\n",
              " 93.33333333333333,\n",
              " 116.33333333333333]"
            ]
          },
          "metadata": {
            "tags": []
          },
          "execution_count": 3
        }
      ]
    },
    {
      "cell_type": "code",
      "metadata": {
        "id": "3ljdMss5eO2i",
        "colab_type": "code",
        "colab": {}
      },
      "source": [
        ""
      ],
      "execution_count": null,
      "outputs": []
    }
  ]
}