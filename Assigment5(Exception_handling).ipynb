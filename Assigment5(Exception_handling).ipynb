{
  "nbformat": 4,
  "nbformat_minor": 0,
  "metadata": {
    "colab": {
      "name": "Assigment5(Exception_handling).ipynb",
      "provenance": []
    },
    "kernelspec": {
      "name": "python3",
      "display_name": "Python 3"
    }
  },
  "cells": [
    {
      "cell_type": "markdown",
      "metadata": {
        "id": "YOMxgs7bqNxz",
        "colab_type": "text"
      },
      "source": [
        "#**1. Write a function to compute 5/0 and use try/except to catch the exceptions.**#"
      ]
    },
    {
      "cell_type": "code",
      "metadata": {
        "id": "c0JIJmhhkS4D",
        "colab_type": "code",
        "colab": {}
      },
      "source": [
        "def div_zero():\n",
        "  try:\n",
        "    val=5/0\n",
        "    print(val)\n",
        "  except:\n",
        "    print(\"division tends to infinity\")\n",
        "  finally:\n",
        "    print(\"I executed the script\")  \n"
      ],
      "execution_count": null,
      "outputs": []
    },
    {
      "cell_type": "code",
      "metadata": {
        "id": "B0BHBTA3rU16",
        "colab_type": "code",
        "colab": {
          "base_uri": "https://localhost:8080/",
          "height": 50
        },
        "outputId": "f8f28326-bf98-48db-c30e-5eafa4623835"
      },
      "source": [
        "div_zero()"
      ],
      "execution_count": null,
      "outputs": [
        {
          "output_type": "stream",
          "text": [
            "division tends to infinity\n",
            "I executed the script\n"
          ],
          "name": "stdout"
        }
      ]
    },
    {
      "cell_type": "markdown",
      "metadata": {
        "id": "B180dfThsFHL",
        "colab_type": "text"
      },
      "source": [
        "#**2. Implement a Python program to generate all sentences where subject is in [\"Americans\", \"Indians\"] and verb is in [\"Play\", \"watch\"] and the object is in [\"Baseball\",\"cricket\"].**#\n",
        "Hint: Subject,Verb and Object should be declared in the program as shown below. \n",
        "*  subjects=[\"Americans \",\"Indians\"].\n",
        "*  verbs   =[\"play\",\"watch\"] \n",
        "*  objects =[\"Baseball\",\"Cricket\"]\n",
        "\n",
        "\n",
        "\n",
        "\n"
      ]
    },
    {
      "cell_type": "code",
      "metadata": {
        "id": "mE0ZvhrQsED_",
        "colab_type": "code",
        "colab": {
          "base_uri": "https://localhost:8080/",
          "height": 151
        },
        "outputId": "966f4b0a-f7e1-4d31-b9f8-38c932b84878"
      },
      "source": [
        " subjects=[\"Americans \",\"Indians\"]\n",
        " verbs   =[\"play\",\"watch\"] \n",
        " objects =[\"Baseball\",\"Cricket\"]\n",
        "\n",
        " for i in range(len(subjects)):\n",
        "   for j in range(len(verbs)):\n",
        "     for k in range(len(objects)):\n",
        "       val=subjects[i]+\" \"+ verbs[j]+\" \"+ objects[k]\n",
        "       print(val)\n"
      ],
      "execution_count": null,
      "outputs": [
        {
          "output_type": "stream",
          "text": [
            "Americans  play Baseball\n",
            "Americans  play Cricket\n",
            "Americans  watch Baseball\n",
            "Americans  watch Cricket\n",
            "Indians play Baseball\n",
            "Indians play Cricket\n",
            "Indians watch Baseball\n",
            "Indians watch Cricket\n"
          ],
          "name": "stdout"
        }
      ]
    },
    {
      "cell_type": "markdown",
      "metadata": {
        "id": "cbVfKAlAtf0p",
        "colab_type": "text"
      },
      "source": [
        "#**Output should come as below:**# \n",
        "1. Americans play Baseball. \n",
        "2. Americans play Cricket.\n",
        "3. Americans watch Baseball.\n",
        "4. Americans watch Cricket. \n",
        "5. Indians play Baseball. \n",
        "6. Indians play Cricket. \n",
        "7. Indians watch Baseball. \n",
        "8. Indians watch Cricket. \n"
      ]
    },
    {
      "cell_type": "code",
      "metadata": {
        "id": "tfMkBGjEtQzC",
        "colab_type": "code",
        "colab": {}
      },
      "source": [
        ""
      ],
      "execution_count": null,
      "outputs": []
    }
  ]
}