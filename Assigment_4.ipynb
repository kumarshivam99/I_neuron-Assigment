{
  "nbformat": 4,
  "nbformat_minor": 0,
  "metadata": {
    "colab": {
      "name": "Assigment_4.ipynb",
      "provenance": [],
      "collapsed_sections": []
    },
    "kernelspec": {
      "name": "python3",
      "display_name": "Python 3"
    }
  },
  "cells": [
    {
      "cell_type": "markdown",
      "metadata": {
        "id": "7vdCBxRARMzN",
        "colab_type": "text"
      },
      "source": [
        "#1.1 Write a Python Program(with class concepts) to find the area of the triangle using the below formula.\n",
        "area = (s*(s-a)*(s-b)*(s-c)) ** 0.5\n",
        "\n",
        "#Function to take the length of the sides of triangle from user should be defined in the parent class and function to calculate the area should be defined in subclass."
      ]
    },
    {
      "cell_type": "code",
      "metadata": {
        "id": "yE0R1vDnZZQa",
        "colab_type": "code",
        "colab": {
          "base_uri": "https://localhost:8080/",
          "height": 34
        },
        "outputId": "708f2fb0-c135-40a7-f50c-b5085ace19cb"
      },
      "source": [
        "class triangle:\n",
        "    def __init__(self, a, b, c):\n",
        "        self.a = a\n",
        "        self.b = b\n",
        "        self.c = c\n",
        "\n",
        "class ara(triangle):\n",
        "    def __init__(self, *args):\n",
        "        super(ara, self).__init__(*args)\n",
        "        self.s=self.a+self.b+self.c\n",
        "        self.area=(self.s*(self.s-self.a)*(self.s-self.b)*(self.s-self.c))*0.5\n",
        "        \n",
        "t = ara( 2, 3, 4)\n",
        "print(t.area)        "
      ],
      "execution_count": 1,
      "outputs": [
        {
          "output_type": "stream",
          "text": [
            "945.0\n"
          ],
          "name": "stdout"
        }
      ]
    },
    {
      "cell_type": "markdown",
      "metadata": {
        "id": "5y7r5uv7Rdbc",
        "colab_type": "text"
      },
      "source": [
        "##1.2 Write a function filter_long_words() that takes a list of words and an integer n and returns the list of words that are longer than n."
      ]
    },
    {
      "cell_type": "code",
      "metadata": {
        "id": "a5h5FCSbRhSx",
        "colab_type": "code",
        "colab": {}
      },
      "source": [
        "def filter_long_words(lis,n):\n",
        "  return_list=[]\n",
        "  for i in lis:\n",
        "    if len(i)>n:\n",
        "      return_list.append(i)\n",
        "  return return_list    "
      ],
      "execution_count": 0,
      "outputs": []
    },
    {
      "cell_type": "code",
      "metadata": {
        "id": "GWtMR3zjTOz8",
        "colab_type": "code",
        "outputId": "0d993fdb-e749-4223-c62a-ec3f332787d9",
        "colab": {
          "base_uri": "https://localhost:8080/",
          "height": 34
        }
      },
      "source": [
        "lis=['shiva','karma','go','ho']\n",
        "print(filter_long_words(lis,2))"
      ],
      "execution_count": 3,
      "outputs": [
        {
          "output_type": "stream",
          "text": [
            "['shiva', 'karma']\n"
          ],
          "name": "stdout"
        }
      ]
    },
    {
      "cell_type": "markdown",
      "metadata": {
        "id": "w-adCubkRiD0",
        "colab_type": "text"
      },
      "source": [
        "##2.1 Write a Python program using function concept that maps list of words into a list of integers representing the lengths of the corresponding words.\n",
        "Hint: If a list [ ab,cde,erty] is passed on to the python function output should come as [2,3,4]\n",
        "Here 2,3 and 4 are the lengths of the words in the list."
      ]
    },
    {
      "cell_type": "code",
      "metadata": {
        "id": "v1gt5n1PRrpa",
        "colab_type": "code",
        "colab": {}
      },
      "source": [
        "def word_filter(lis):\n",
        "  return_list=list(map(lambda x:len(x),lis))\n",
        "  return return_list"
      ],
      "execution_count": 0,
      "outputs": []
    },
    {
      "cell_type": "code",
      "metadata": {
        "id": "br6fYNlHUjPW",
        "colab_type": "code",
        "outputId": "a4bf7b8f-4f51-4391-aaeb-036a348bcfaf",
        "colab": {
          "base_uri": "https://localhost:8080/",
          "height": 34
        }
      },
      "source": [
        "lis=['shiva','karma','go','ho']\n",
        "print(word_filter(lis))"
      ],
      "execution_count": 5,
      "outputs": [
        {
          "output_type": "stream",
          "text": [
            "[5, 5, 2, 2]\n"
          ],
          "name": "stdout"
        }
      ]
    },
    {
      "cell_type": "markdown",
      "metadata": {
        "id": "Nq0v48uURszl",
        "colab_type": "text"
      },
      "source": [
        "##2.2 Write a Python function which takes a character (i.e. a string of length 1) and returns True if it is a vowel, False otherwise."
      ]
    },
    {
      "cell_type": "code",
      "metadata": {
        "id": "Kgygu5LeRyd8",
        "colab_type": "code",
        "colab": {}
      },
      "source": [
        "def is_vowel(s):\n",
        "  vowels=['a','e','i','o','u']\n",
        "  for i in vowels:\n",
        "    if s==i:\n",
        "     return True\n",
        "  return False  "
      ],
      "execution_count": 0,
      "outputs": []
    },
    {
      "cell_type": "code",
      "metadata": {
        "id": "9Oxyhtoga6dC",
        "colab_type": "code",
        "outputId": "80b46db0-4473-4ac8-e0c5-26b5cc817049",
        "colab": {
          "base_uri": "https://localhost:8080/",
          "height": 50
        }
      },
      "source": [
        "a=is_vowel(input(\"enter the character:\"))\n",
        "print(a)"
      ],
      "execution_count": 7,
      "outputs": [
        {
          "output_type": "stream",
          "text": [
            "enter the character:k\n",
            "False\n"
          ],
          "name": "stdout"
        }
      ]
    },
    {
      "cell_type": "code",
      "metadata": {
        "id": "vja2ythMbHGB",
        "colab_type": "code",
        "colab": {}
      },
      "source": [
        ""
      ],
      "execution_count": 0,
      "outputs": []
    }
  ]
}